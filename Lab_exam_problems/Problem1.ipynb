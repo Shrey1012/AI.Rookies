{
 "cells": [
  {
   "cell_type": "code",
   "execution_count": null,
   "metadata": {},
   "outputs": [],
   "source": [
    "import random\n",
    "\n",
    "# Initialize Q-values and policy\n",
    "Q = {(s, a): 0 for s in states for a in actions}\n",
    "policy = {s: random.choice(actions) for s in states}\n",
    "\n",
    "# Define the function to simulate an episode\n",
    "def simulate_episode(policy):\n",
    "    episode = []\n",
    "    state = random.choice(states[:-1])\n",
    "    while True:\n",
    "        action = policy[state]\n",
    "        if action == 'stop':\n",
    "            episode.append((state, action, reward[state][action]))\n",
    "            break\n",
    "        else:\n",
    "            next_state = random.choices(list(transition_probability[state][action].keys()), \n",
    "                                         list(transition_probability[state][action].values()))[0]\n",
    "            episode.append((state, action, reward[state]['correct']))\n",
    "            state = next_state\n",
    "    return episode\n",
    "\n",
    "# Define the function to update the Q-values and policy using the Monte Carlo method\n",
    "def update_policy(Q, policy, episodes):\n",
    "    N = {(s, a): 0 for s in states for a in actions}\n",
    "    for episode in episodes:\n",
    "        G = 0\n",
    "        for i, (s, a, r) in enumerate(reversed(episode)):\n",
    "            G = gamma * G + r\n",
    "            if (s, a) not in [(x[0], x[1]) for x in episode[-i-1:-1]]:\n",
    "                N[(s, a)] += 1\n",
    "                Q[(s, a)] += (1 / N[(s, a)]) * (G - Q[(s, a)])\n",
    "                max_q = max(Q[(s, a)] for a in actions)\n",
    "                policy[s] = random.choice([a for a in actions if Q[(s, a)] == max_q])\n",
    "    return Q, policy\n",
    "\n",
    "# Run the Monte Carlo control algorithm\n",
    "for i in range(1000):\n",
    "    episodes = [simulate_episode(policy) for _ in range(100)]\n",
    "    Q, policy = update_policy(Q, policy, episodes)\n",
    "\n",
    "# Print the optimal policy and values\n",
    "print('Optimal Policy:')\n",
    "for s in states[:-1]:\n",
    "    print(s, ':', policy[s])\n",
    "\n",
    "print('\\nOptimal Values:')\n",
    "for s in states[:-1]:\n",
    "    print(s, ':', max(Q[(s, a)] for a in actions))"
   ]
  }
 ],
 "metadata": {
  "language_info": {
   "name": "python"
  },
  "orig_nbformat": 4
 },
 "nbformat": 4,
 "nbformat_minor": 2
}
